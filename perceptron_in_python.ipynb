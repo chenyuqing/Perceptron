{
 "cells": [
  {
   "cell_type": "code",
   "execution_count": 2,
   "metadata": {
    "collapsed": true
   },
   "outputs": [],
   "source": [
    "from pylab import rand, plot, show, norm"
   ]
  },
  {
   "cell_type": "code",
   "execution_count": 15,
   "metadata": {
    "collapsed": true
   },
   "outputs": [],
   "source": [
    "class Perceptron:\n",
    "    def __init__(self):\n",
    "        \"\"\" perceptron initialization \"\"\"\n",
    "        self.w = rand(2)*2 - 1  # Weights\n",
    "        self.learningRate = 0.1\n",
    "        \n",
    "    def response(self, x):\n",
    "        \"\"\" perceptron output \"\"\"\n",
    "        y = x[0]*self.w[0]+x[1]*self.w[1]  # dot product between x and w\n",
    "        if y >= 0:\n",
    "            return 1\n",
    "        else:\n",
    "            return -1\n",
    "        \n",
    "    def updateWeights(self, x, iterError):\n",
    "        \"\"\"\n",
    "        updates the weights status, w at time t+1 is \n",
    "            w(t+1) = w(t) + learningRate * (d-r) * x\n",
    "            where d is desired output and r is the perceptron response\n",
    "            iterError is (d-r)\n",
    "        \"\"\"\n",
    "        self.w[0] += self.learningRate * iterError * x[0]\n",
    "        self.w[1] += self.learningRate * iterError * x[1]\n",
    "        \n",
    "    def train(self, data):\n",
    "        \"\"\"\n",
    "        train all the vectors in data\n",
    "        Every vector in data must have three elements,\n",
    "        the third element (x[2]) must be the label (desired output)\n",
    "        \"\"\"\n",
    "        learned = False\n",
    "        iteration = 0\n",
    "        while not learned:\n",
    "            globalError = 0.0\n",
    "            for x in data:\n",
    "                r = self.response(x)\n",
    "                if x[2] != r:  # if we have a wrong response\n",
    "                    iterError = x[2] - r # desired response - actual response\n",
    "                    self.updateWeights(x, iterError)\n",
    "                    globalError += abs(iterError)\n",
    "                iteration += 1\n",
    "            if globalError == 0.0 or iteration >= 100:\n",
    "                print(\"iterations\", iteration)\n",
    "                print(\"globalError\", globalError)\n",
    "                learned = True # Stop learning"
   ]
  },
  {
   "cell_type": "code",
   "execution_count": 4,
   "metadata": {
    "collapsed": true
   },
   "outputs": [],
   "source": [
    "def generateData(n):\n",
    "    \"\"\"\n",
    "    generate a 2D linearly separable dataset with n samples\n",
    "    The third element of the sample is the label\n",
    "    \"\"\"\n",
    "    xb = (rand(n)*2-1) / 2 - 0.5\n",
    "    yb = (rand(n)*2-1) / 2 + 0.5\n",
    "    xr = (rand(n)*2-1) / 2 + 0.5\n",
    "    yr = (rand(n)*2-1) / 2 - 0.5\n",
    "    \n",
    "    inputs = []\n",
    "    for i in range(len(xb)):\n",
    "        inputs.append([xb[i], yb[i], 1])\n",
    "        inputs.append([xr[i], yr[i], -1])\n",
    "    return inputs"
   ]
  },
  {
   "cell_type": "code",
   "execution_count": 19,
   "metadata": {
    "collapsed": false
   },
   "outputs": [
    {
     "name": "stdout",
     "output_type": "stream",
     "text": [
      "iterations 120\n",
      "globalError 0.0\n"
     ]
    },
    {
     "data": {
      "image/png": "[encoded data removed]",
      "text/plain": [
       "<matplotlib.figure.Figure at 0x1607283c0f0>"
      ]
     },
     "metadata": {},
     "output_type": "display_data"
    }
   ],
   "source": [
    "trainset = generateData(30) # train set generation\n",
    "perceptron = Perceptron()   # perceptron instance\n",
    "perceptron.train(trainset)  # training\n",
    "testset = generateData(20)  # test set generation\n",
    "\n",
    "# Perceptron test\n",
    "for x in testset:\n",
    " r = perceptron.response(x)\n",
    " if r != x[2]: # if the response is not correct\n",
    "  print('error')\n",
    " if r == 1:\n",
    "  plot(x[0],x[1],'ob')  \n",
    " else:\n",
    "  plot(x[0],x[1],'or')\n",
    "\n",
    "# plot of the separation line.\n",
    "# The separation line is orthogonal to w\n",
    "n = norm(perceptron.w)\n",
    "ww = perceptron.w/n\n",
    "ww1 = [ww[1],-ww[0]]\n",
    "ww2 = [-ww[1],ww[0]]\n",
    "plot([ww1[0], ww2[0]],[ww1[1], ww2[1]],'--k')\n",
    "show()"
   ]
  },
  {
   "cell_type": "code",
   "execution_count": 14,
   "metadata": {
    "collapsed": false
   },
   "outputs": [
    {
     "data": {
      "text/plain": [
       "[[-0.93190917685962826, 0.27776873231376464, 1],\n",
       " [0.62992605660908052, -0.014919558433341917, -1],\n",
       " [-0.26182455649210057, 0.4485850495635465, 1],\n",
       " [0.012480898431398879, -0.35010195697576774, -1],\n",
       " [-0.21598953442792712, 0.81552053950669712, 1],\n",
       " [0.30660696689956768, -0.54855499631036486, -1],\n",
       " [-0.25638378710873033, 0.62268309218588969, 1],\n",
       " [0.37605533316394524, -0.096529306831047546, -1],\n",
       " [-0.76439818738004661, 0.86681306884561715, 1],\n",
       " [0.19813408102815999, -0.7630952915154906, -1],\n",
       " [-0.14037995397557401, 0.29956664621235896, 1],\n",
       " [0.07649450374258171, -0.81247605010142787, -1],\n",
       " [-0.97259384207513722, 0.053725648495307587, 1],\n",
       " [0.58080791733541648, -0.28486125218356617, -1],\n",
       " [-0.038966326145922991, 0.11925839248291814, 1],\n",
       " [0.92761566553462549, -0.29570880080446893, -1],\n",
       " [-0.55269544547050098, 0.76940208749535199, 1],\n",
       " [0.95495424708284371, -0.39326287590882236, -1],\n",
       " [-0.73690025923012981, 0.46606595164313025, 1],\n",
       " [0.94974094216538218, -0.62986655514281586, -1],\n",
       " [-0.86532051397320242, 0.59714896623644154, 1],\n",
       " [0.082056674551110542, -0.55417674692682117, -1],\n",
       " [-0.67284044194591852, 0.54688541052822737, 1],\n",
       " [0.49687001152033305, -0.83434102298002022, -1],\n",
       " [-0.99612161388437981, 0.2273640859114896, 1],\n",
       " [0.81576424774357204, -0.81969193859009437, -1],\n",
       " [-0.30276637742989787, 0.4831627367648732, 1],\n",
       " [0.15383107572323429, -0.8258386347702843, -1],\n",
       " [-0.080664936099608231, 0.34526667104115383, 1],\n",
       " [0.68881320313365912, -0.83365940167703956, -1],\n",
       " [-0.45624440502713459, 0.10073622368196533, 1],\n",
       " [0.16518402887101657, -0.017672293713068665, -1],\n",
       " [-0.7065169691696217, 0.64014383907067962, 1],\n",
       " [0.95433731445024195, -0.87211562415089883, -1],\n",
       " [-0.03142949330342526, 0.13824632417559557, 1],\n",
       " [0.64808485230540847, -0.72339852276827532, -1],\n",
       " [-0.12017465708007691, 0.51428584296923774, 1],\n",
       " [0.68419604872358863, -0.068598989200704064, -1],\n",
       " [-0.95685268286501524, 0.87033386179051486, 1],\n",
       " [0.66950829705498804, -0.39176295083632251, -1]]"
      ]
     },
     "execution_count": 14,
     "metadata": {},
     "output_type": "execute_result"
    }
   ],
   "source": [
    "trainset\n",
    "testset"
   ]
  }
 ],
 "metadata": {
  "anaconda-cloud": {},
  "kernelspec": {
   "display_name": "Python [default]",
   "language": "python",
   "name": "python3"
  },
  "language_info": {
   "codemirror_mode": {
    "name": "ipython",
    "version": 3
   },
   "file_extension": ".py",
   "mimetype": "text/x-python",
   "name": "python",
   "nbconvert_exporter": "python",
   "pygments_lexer": "ipython3",
   "version": "3.5.2"
  }
 },
 "nbformat": 4,
 "nbformat_minor": 1
}
